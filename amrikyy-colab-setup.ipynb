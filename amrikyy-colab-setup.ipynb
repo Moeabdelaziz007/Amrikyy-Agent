{
 "cells": [
  {
   "cell_type": "markdown",
   "metadata": {
    "id": "title"
   },
   "source": [
    "# Amrikyy Travel Agent - Google Colab Setup\n",
    "\n",
    "This notebook sets up the Amrikyy Travel Agent project in Google Colab for lightweight development and testing."
   ]
  },
  {
   "cell_type": "code",
   "execution_count": null,
   "metadata": {
    "id": "setup"
   },
   "outputs": [],
   "source": [
    "# Install Node.js and dependencies\n",
    "!curl -fsSL https://deb.nodesource.com/setup_18.x | sudo -E bash -\n",
    "!sudo apt-get install -y nodejs\n",
    "\n",
    "# Verify installation\n",
    "!node --version\n",
    "!npm --version"
   ]
  },
  {
   "cell_type": "code",
   "execution_count": null,
   "metadata": {
    "id": "clone"
   },
   "outputs": [],
   "source": [
    "# Clone the repository (replace with your actual repo URL)\n",
    "!git clone https://github.com/yourusername/amrikyy-travel-agent.git\n",
    "!cd amrikyy-travel-agent && ls -la"
   ]
  },
  {
   "cell_type": "code",
   "execution_count": null,
   "metadata": {
    "id": "install-backend"
   },
   "outputs": [],
   "source": [
    "# Install backend dependencies\n",
    "!cd amrikyy-travel-agent/backend && npm install"
   ]
  },
  {
   "cell_type": "code",
   "execution_count": null,
   "metadata": {
    "id": "install-frontend"
   },
   "outputs": [],
   "source": [
    "# Install frontend dependencies\n",
    "!cd amrikyy-travel-agent/frontend && npm install"
   ]
  },
  {
   "cell_type": "code",
   "execution_count": null,
   "metadata": {
    "id": "start-backend"
   },
   "outputs": [],
   "source": [
    "# Start backend server in background\n",
    "import subprocess\n",
    "import threading\n",
    "import time\n",
    "\n",
    "def start_backend():\n",
    "    subprocess.run(['cd', 'amrikyy-travel-agent/backend', '&&', 'PORT=3000', 'node', 'server.js'], shell=True)\n",
    "\n",
    "# Start backend in background thread\n",
    "backend_thread = threading.Thread(target=start_backend)\n",
    "backend_thread.daemon = True\n",
    "backend_thread.start()\n",
    "\n",
    "print(\"Backend server starting...\")\n",
    "time.sleep(3)\n",
    "print(\"Backend should be running on port 3000\")"
   ]
  },
  {
   "cell_type": "code",
   "execution_count": null,
   "metadata": {
    "id": "start-frontend"
   },
   "outputs": [],
   "source": [
    "# Start frontend development server\n",
    "!cd amrikyy-travel-agent/frontend && npm run dev -- --host 0.0.0.0 --port 5173"
   ]
  },
  {
   "cell_type": "markdown",
   "metadata": {
    "id": "usage"
   },
   "source": [
    "## Usage Instructions\n",
    "\n",
    "1. **Backend API**: Available at `http://localhost:3000`\n",
    "2. **Frontend**: Available at `http://localhost:5173`\n",
    "3. **Colab Port Forwarding**: Use the port forwarding feature in Colab to access the application\n",
    "\n",
    "### Performance Optimizations Applied:\n",
    "- Reduced particle count from 20 to 8\n",
    "- Shortened animation delays from 1500ms to 800ms\n",
    "- Fixed duplicate key warnings\n",
    "- Optimized re-renders"
   ]
  }
 ],
 "metadata": {
  "colab": {
   "provenance": []
  },
  "kernelspec": {
   "display_name": "Python 3",
   "name": "python3"
  },
  "language_info": {
   "name": "python"
  }
 },
 "nbformat": 4,
 "nbformat_minor": 0
}